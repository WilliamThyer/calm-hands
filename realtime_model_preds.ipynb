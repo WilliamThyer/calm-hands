{
 "cells": [
  {
   "cell_type": "code",
   "execution_count": 2,
   "metadata": {},
   "outputs": [
    {
     "name": "stdout",
     "output_type": "stream",
     "text": [
      "The autoreload extension is already loaded. To reload it, use:\n",
      "  %reload_ext autoreload\n"
     ]
    }
   ],
   "source": [
    "from camera import Cam\n",
    "import winsound\n",
    "import cv2\n",
    "import time\n",
    "\n",
    "%load_ext autoreload\n",
    "%autoreload 2"
   ]
  },
  {
   "cell_type": "code",
   "execution_count": 3,
   "metadata": {},
   "outputs": [],
   "source": [
    "cam = Cam()"
   ]
  },
  {
   "cell_type": "code",
   "execution_count": 24,
   "metadata": {},
   "outputs": [
    {
     "name": "stdout",
     "output_type": "stream",
     "text": [
      "got frame\n",
      "27.63929581642151\n",
      "got frame\n",
      "2.5504376888275146\n",
      "got frame\n",
      "2.5514254570007324\n",
      "got frame\n",
      "2.5320277214050293\n",
      "got frame\n",
      "2.5307419300079346\n",
      "got frame\n",
      "2.553487777709961\n",
      "got frame\n",
      "2.5301859378814697\n",
      "got frame\n",
      "2.5571818351745605\n"
     ]
    }
   ],
   "source": [
    "wait = 2.5\n",
    "get_frame = True \n",
    "\n",
    "while True:\n",
    "    \n",
    "    if get_frame is True:\n",
    "        frame = cam.get_image()\n",
    "        timer = time.time()\n",
    "        get_frame = False\n",
    "    \n",
    "    if time.time() - timer > wait:\n",
    "        get_frame = True\n",
    "    \n",
    "    cam.show_webcam()\n",
    "\n",
    "    if cam.check_close_cam():\n",
    "        cv2.destroyAllWindows()\n",
    "        break\n",
    "\n",
    "cv2.destroyAllWindows()"
   ]
  },
  {
   "cell_type": "code",
   "execution_count": 7,
   "metadata": {},
   "outputs": [],
   "source": [
    "cam.capture.release()"
   ]
  }
 ],
 "metadata": {
  "kernelspec": {
   "display_name": "opencv",
   "language": "python",
   "name": "python3"
  },
  "language_info": {
   "codemirror_mode": {
    "name": "ipython",
    "version": 3
   },
   "file_extension": ".py",
   "mimetype": "text/x-python",
   "name": "python",
   "nbconvert_exporter": "python",
   "pygments_lexer": "ipython3",
   "version": "3.10.2"
  },
  "orig_nbformat": 4,
  "vscode": {
   "interpreter": {
    "hash": "fd17ddef8983a2b319e7125a727c3d29e375cd0381d69823a53d460e16724572"
   }
  }
 },
 "nbformat": 4,
 "nbformat_minor": 2
}
