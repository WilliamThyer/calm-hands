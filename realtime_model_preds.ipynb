{
 "cells": [
  {
   "cell_type": "code",
   "execution_count": 49,
   "metadata": {},
   "outputs": [
    {
     "name": "stdout",
     "output_type": "stream",
     "text": [
      "The autoreload extension is already loaded. To reload it, use:\n",
      "  %reload_ext autoreload\n"
     ]
    }
   ],
   "source": [
    "from camera import Cam\n",
    "import winsound\n",
    "from cv2 import destroyAllWindows\n",
    "import time\n",
    "\n",
    "from fastai.vision.all import *\n",
    "from fastai.vision.utils import *\n",
    "\n",
    "# Weird path stuff for fastai\n",
    "import pathlib\n",
    "temp = pathlib.PosixPath\n",
    "pathlib.PosixPath = pathlib.WindowsPath\n",
    "\n",
    "%load_ext autoreload\n",
    "%autoreload 2"
   ]
  },
  {
   "cell_type": "code",
   "execution_count": 18,
   "metadata": {},
   "outputs": [],
   "source": [
    "# Load pre-trained nail-biting model\n",
    "def label_func(name):\n",
    "    return name.parent.name\n",
    "\n",
    "learn = load_learner('model.pkl')"
   ]
  },
  {
   "cell_type": "code",
   "execution_count": 50,
   "metadata": {},
   "outputs": [],
   "source": [
    "def do_prediction(frame):\n",
    "    with learn.no_bar(), learn.no_logging():\n",
    "        pred = learn.predict(frame)\n",
    "    conf = round(float(pred[2][pred[1]])*100,2) \n",
    "    output = f'The model is {conf}% confident that you are {pred[0]}' \n",
    "    print(output)\n"
   ]
  },
  {
   "cell_type": "code",
   "execution_count": 51,
   "metadata": {},
   "outputs": [],
   "source": [
    "cam = Cam()"
   ]
  },
  {
   "cell_type": "code",
   "execution_count": 52,
   "metadata": {},
   "outputs": [
    {
     "name": "stdout",
     "output_type": "stream",
     "text": [
      "The model is 99.9% confident that you are good\n",
      "The model is 99.93% confident that you are good\n",
      "The model is 99.96% confident that you are good\n",
      "The model is 99.46% confident that you are good\n",
      "The model is 98.55% confident that you are good\n",
      "The model is 99.1% confident that you are good\n",
      "The model is 99.13% confident that you are good\n",
      "The model is 99.83% confident that you are good\n",
      "The model is 99.59% confident that you are good\n",
      "The model is 99.36% confident that you are good\n",
      "The model is 97.73% confident that you are good\n",
      "The model is 96.86% confident that you are good\n",
      "The model is 99.8% confident that you are good\n",
      "The model is 99.86% confident that you are good\n",
      "The model is 82.23% confident that you are bad\n",
      "The model is 80.74% confident that you are bad\n",
      "The model is 81.62% confident that you are bad\n",
      "The model is 67.46% confident that you are good\n",
      "The model is 93.97% confident that you are good\n",
      "The model is 99.24% confident that you are good\n",
      "The model is 94.82% confident that you are good\n",
      "The model is 79.77% confident that you are good\n",
      "The model is 86.45% confident that you are good\n",
      "The model is 92.07% confident that you are good\n"
     ]
    }
   ],
   "source": [
    "timer = time.time()\n",
    "while True:\n",
    "    \n",
    "    # Check if a frame should be grabbed this loop \n",
    "    if time.time() - timer > wait:\n",
    "        frame = cam.get_image()\n",
    "        timer = time.time() # starts the timer for next frame grab\n",
    "        do_prediction(frame)\n",
    "   \n",
    "    # Update the webcam view \n",
    "    cam.show_webcam()\n",
    "\n",
    "    # Check if webcam view has been closed\n",
    "    if cam.check_close_cam():\n",
    "        break\n",
    "\n",
    "destroyAllWindows()"
   ]
  },
  {
   "cell_type": "code",
   "execution_count": 30,
   "metadata": {},
   "outputs": [],
   "source": [
    "cam.capture.release()"
   ]
  }
 ],
 "metadata": {
  "kernelspec": {
   "display_name": "Python 3",
   "language": "python",
   "name": "python3"
  },
  "language_info": {
   "codemirror_mode": {
    "name": "ipython",
    "version": 3
   },
   "file_extension": ".py",
   "mimetype": "text/x-python",
   "name": "python",
   "nbconvert_exporter": "python",
   "pygments_lexer": "ipython3",
   "version": "3.9.16"
  },
  "orig_nbformat": 4,
  "vscode": {
   "interpreter": {
    "hash": "a1e19683e6b7b6888d9ddf383646b105665c9fa88932c638fec63dba6a5fdc3f"
   }
  }
 },
 "nbformat": 4,
 "nbformat_minor": 2
}
