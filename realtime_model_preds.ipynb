{
 "cells": [
  {
   "cell_type": "code",
   "execution_count": 2,
   "metadata": {},
   "outputs": [
    {
     "name": "stdout",
     "output_type": "stream",
     "text": [
      "The autoreload extension is already loaded. To reload it, use:\n",
      "  %reload_ext autoreload\n"
     ]
    }
   ],
   "source": [
    "from camera import Cam\n",
    "import winsound\n",
    "import cv2\n",
    "import time\n",
    "\n",
    "%load_ext autoreload\n",
    "%autoreload 2"
   ]
  },
  {
   "cell_type": "code",
   "execution_count": 33,
   "metadata": {},
   "outputs": [],
   "source": [
    "cam = Cam()"
   ]
  },
  {
   "cell_type": "code",
   "execution_count": 41,
   "metadata": {},
   "outputs": [
    {
     "name": "stdout",
     "output_type": "stream",
     "text": [
      "frame grabbed after 0.5016686916351318 seconds\n",
      "frame grabbed after 0.5462732315063477 seconds\n",
      "frame grabbed after 0.5027241706848145 seconds\n",
      "frame grabbed after 0.5017416477203369 seconds\n",
      "frame grabbed after 0.5193612575531006 seconds\n",
      "frame grabbed after 0.5048625469207764 seconds\n"
     ]
    }
   ],
   "source": [
    "wait = .5\n",
    "\n",
    "timer = time.time()\n",
    "while True:\n",
    "    \n",
    "    # Check if a frame should be grabbed this loop \n",
    "    if time.time() - timer > wait:\n",
    "        frame = cam.get_image()\n",
    "        timer = time.time() # starts the timer for next frame grab\n",
    "   \n",
    "    # Update the webcam view \n",
    "    cam.show_webcam()\n",
    "\n",
    "    # Check if webcam view has been closed\n",
    "    if cam.check_close_cam():\n",
    "        break\n",
    "\n",
    "cv2.destroyAllWindows()"
   ]
  },
  {
   "cell_type": "code",
   "execution_count": 30,
   "metadata": {},
   "outputs": [],
   "source": [
    "cam.capture.release()"
   ]
  }
 ],
 "metadata": {
  "kernelspec": {
   "display_name": "opencv",
   "language": "python",
   "name": "python3"
  },
  "language_info": {
   "codemirror_mode": {
    "name": "ipython",
    "version": 3
   },
   "file_extension": ".py",
   "mimetype": "text/x-python",
   "name": "python",
   "nbconvert_exporter": "python",
   "pygments_lexer": "ipython3",
   "version": "3.10.2"
  },
  "orig_nbformat": 4,
  "vscode": {
   "interpreter": {
    "hash": "fd17ddef8983a2b319e7125a727c3d29e375cd0381d69823a53d460e16724572"
   }
  }
 },
 "nbformat": 4,
 "nbformat_minor": 2
}
