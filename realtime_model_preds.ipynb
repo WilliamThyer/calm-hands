{
 "cells": [
  {
   "cell_type": "code",
   "execution_count": 8,
   "metadata": {},
   "outputs": [],
   "source": [
    "from camera import Cam\n",
    "import winsound\n",
    "import cv2  \n",
    "import time\n",
    "\n",
    "from fastai.vision.all import *\n",
    "from fastai.vision.utils import *\n",
    "\n",
    "# Weird path stuff for fastai\n",
    "import pathlib\n",
    "temp = pathlib.PosixPath\n",
    "pathlib.PosixPath = pathlib.WindowsPath\n",
    "\n",
    "%load_ext autoreload\n",
    "%autoreload 2"
   ]
  },
  {
   "cell_type": "code",
   "execution_count": 18,
   "metadata": {},
   "outputs": [],
   "source": [
    "# Load pre-trained nail-biting model\n",
    "def label_func(name):\n",
    "    return name.parent.name\n",
    "\n",
    "learn = load_learner('model.pkl')"
   ]
  },
  {
   "cell_type": "code",
   "execution_count": 50,
   "metadata": {},
   "outputs": [],
   "source": [
    "def do_prediction(frame):\n",
    "    with learn.no_bar(), learn.no_logging():\n",
    "        pred = learn.predict(frame)\n",
    "    conf = round(float(pred[2][pred[1]])*100,2) \n",
    "    output = f'The model is {conf}% confident that you are {pred[0]}' \n",
    "    print(output)"
   ]
  },
  {
   "cell_type": "code",
   "execution_count": 10,
   "metadata": {},
   "outputs": [],
   "source": [
    "cam = Cam()"
   ]
  },
  {
   "cell_type": "code",
   "execution_count": 27,
   "metadata": {},
   "outputs": [],
   "source": [
    "# Each key has a code, 1=49, 2=50, ... 9=57\n",
    "key_press_dict = {49:'train/good',50:'train/bad'}"
   ]
  },
  {
   "cell_type": "code",
   "execution_count": 52,
   "metadata": {},
   "outputs": [
    {
     "name": "stdout",
     "output_type": "stream",
     "text": [
      "The model is 99.9% confident that you are good\n",
      "The model is 99.93% confident that you are good\n",
      "The model is 99.96% confident that you are good\n",
      "The model is 99.46% confident that you are good\n",
      "The model is 98.55% confident that you are good\n",
      "The model is 99.1% confident that you are good\n",
      "The model is 99.13% confident that you are good\n",
      "The model is 99.83% confident that you are good\n",
      "The model is 99.59% confident that you are good\n",
      "The model is 99.36% confident that you are good\n",
      "The model is 97.73% confident that you are good\n",
      "The model is 96.86% confident that you are good\n",
      "The model is 99.8% confident that you are good\n",
      "The model is 99.86% confident that you are good\n",
      "The model is 82.23% confident that you are bad\n",
      "The model is 80.74% confident that you are bad\n",
      "The model is 81.62% confident that you are bad\n",
      "The model is 67.46% confident that you are good\n",
      "The model is 93.97% confident that you are good\n",
      "The model is 99.24% confident that you are good\n",
      "The model is 94.82% confident that you are good\n",
      "The model is 79.77% confident that you are good\n",
      "The model is 86.45% confident that you are good\n",
      "The model is 92.07% confident that you are good\n"
     ]
    }
   ],
   "source": [
    "wait = 0\n",
    "timer = time.time()\n",
    "while True:\n",
    "    \n",
    "    # Check if a frame should be grabbed this loop \n",
    "    if time.time() - timer > wait:\n",
    "        frame = cam.get_image()\n",
    "        timer = time.time() # starts the timer for next frame grab\n",
    "        do_prediction(frame)\n",
    "   \n",
    "    # Update the webcam view \n",
    "    cam.show_webcam()\n",
    "\n",
    "    # Save frame based on keypress. Useful for collecting training data from misclassified frames.\n",
    "    path = cam.get_path_from_keypress(key_press_dict)\n",
    "    if path:\n",
    "        cam.write_frame(frame,labelled_folder_path=path)\n",
    "\n",
    "    # Check if webcam view has been closed\n",
    "    if cam.check_close_cam():\n",
    "        break\n",
    "\n",
    "cv2.destroyAllWindows()"
   ]
  },
  {
   "cell_type": "code",
   "execution_count": 30,
   "metadata": {},
   "outputs": [],
   "source": [
    "cam.capture.release()"
   ]
  }
 ],
 "metadata": {
  "kernelspec": {
   "display_name": "opencv",
   "language": "python",
   "name": "python3"
  },
  "language_info": {
   "codemirror_mode": {
    "name": "ipython",
    "version": 3
   },
   "file_extension": ".py",
   "mimetype": "text/x-python",
   "name": "python",
   "nbconvert_exporter": "python",
   "pygments_lexer": "ipython3",
   "version": "3.10.2"
  },
  "orig_nbformat": 4,
  "vscode": {
   "interpreter": {
    "hash": "fd17ddef8983a2b319e7125a727c3d29e375cd0381d69823a53d460e16724572"
   }
  }
 },
 "nbformat": 4,
 "nbformat_minor": 2
}
